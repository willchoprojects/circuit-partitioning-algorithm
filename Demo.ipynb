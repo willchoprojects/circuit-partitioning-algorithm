{
 "cells": [
  {
   "cell_type": "code",
   "execution_count": 1,
   "id": "d4e61596",
   "metadata": {},
   "outputs": [],
   "source": [
    "import data_compiler\n",
    "import circuit_partitioner_runner"
   ]
  },
  {
   "cell_type": "code",
   "execution_count": 2,
   "id": "36bee20d",
   "metadata": {},
   "outputs": [],
   "source": [
    "max_num_gates_per_cell = 131\n",
    "max_num_total_channels = 131\n",
    "\n",
    "circuit_file_path = 'circuit_data/circuit.txt'\n",
    "results_base_directory = 'results/'\n",
    "\n",
    "num_repeats = 1000"
   ]
  },
  {
   "cell_type": "code",
   "execution_count": 3,
   "id": "720b54f6",
   "metadata": {},
   "outputs": [],
   "source": [
    "max_num_gates_per_cell_list = list(range(1, max_num_gates_per_cell + 1))\n",
    "max_num_total_channels_list = list(range(1, max_num_total_channels + 1))\n",
    "\n",
    "circuit_partitioner_runner.run(max_num_gates_per_cell_list, max_num_total_channels_list, circuit_file_path, is_saving_intermediates=False, results_base_directory=results_base_directory, num_repeats=num_repeats)\n"
   ]
  },
  {
   "cell_type": "code",
   "execution_count": 4,
   "id": "85be734f",
   "metadata": {},
   "outputs": [],
   "source": [
    "compiled_data_directory = 'compiled_data/'\n",
    "results_directories = ['results/']\n",
    "\n",
    "data_compiler.compile_data(compiled_data_directory, results_directories, is_expanding=False)\n",
    "data_compiler.compile_data(compiled_data_directory, results_directories, True, max_num_gates_per_cell, max_num_total_channels)\n"
   ]
  },
  {
   "cell_type": "code",
   "execution_count": null,
   "id": "90c8c655",
   "metadata": {},
   "outputs": [],
   "source": []
  }
 ],
 "metadata": {
  "kernelspec": {
   "display_name": "Python 3 (ipykernel)",
   "language": "python",
   "name": "python3"
  },
  "language_info": {
   "codemirror_mode": {
    "name": "ipython",
    "version": 3
   },
   "file_extension": ".py",
   "mimetype": "text/x-python",
   "name": "python",
   "nbconvert_exporter": "python",
   "pygments_lexer": "ipython3",
   "version": "3.9.16"
  }
 },
 "nbformat": 4,
 "nbformat_minor": 5
}
