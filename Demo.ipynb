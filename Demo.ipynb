{
 "cells": [
  {
   "cell_type": "code",
   "execution_count": 1,
   "id": "d4e61596",
   "metadata": {},
   "outputs": [],
   "source": [
    "import data_compiler\n",
    "import circuit_partitioner_runner"
   ]
  },
  {
   "cell_type": "code",
   "execution_count": 2,
   "id": "36bee20d",
   "metadata": {},
   "outputs": [],
   "source": [
    "max_num_gates_per_cell = 131\n",
    "max_num_total_channels = 131\n",
    "\n",
    "circuit_file_path = 'circuit_data/circuit.txt'\n",
    "results_base_directory = 'results/'\n",
    "\n",
    "num_repeats = 1000"
   ]
  },
  {
   "cell_type": "code",
   "execution_count": 3,
   "id": "720b54f6",
   "metadata": {},
   "outputs": [
    {
     "ename": "KeyboardInterrupt",
     "evalue": "",
     "output_type": "error",
     "traceback": [
      "\u001b[0;31m---------------------------------------------------------------------------\u001b[0m",
      "\u001b[0;31mKeyboardInterrupt\u001b[0m                         Traceback (most recent call last)",
      "Cell \u001b[0;32mIn[3], line 4\u001b[0m\n\u001b[1;32m      1\u001b[0m max_num_gates_per_cell_list \u001b[38;5;241m=\u001b[39m \u001b[38;5;28mlist\u001b[39m(\u001b[38;5;28mrange\u001b[39m(\u001b[38;5;241m1\u001b[39m, max_num_gates_per_cell \u001b[38;5;241m+\u001b[39m \u001b[38;5;241m1\u001b[39m))\n\u001b[1;32m      2\u001b[0m max_num_total_channels_list \u001b[38;5;241m=\u001b[39m \u001b[38;5;28mlist\u001b[39m(\u001b[38;5;28mrange\u001b[39m(\u001b[38;5;241m1\u001b[39m, max_num_total_channels \u001b[38;5;241m+\u001b[39m \u001b[38;5;241m1\u001b[39m))\n\u001b[0;32m----> 4\u001b[0m \u001b[43mcircuit_partitioner_runner\u001b[49m\u001b[38;5;241;43m.\u001b[39;49m\u001b[43mrun\u001b[49m\u001b[43m(\u001b[49m\u001b[43mmax_num_gates_per_cell_list\u001b[49m\u001b[43m,\u001b[49m\u001b[43m \u001b[49m\u001b[43mmax_num_total_channels_list\u001b[49m\u001b[43m,\u001b[49m\u001b[43m \u001b[49m\u001b[43mcircuit_file_path\u001b[49m\u001b[43m,\u001b[49m\u001b[43m \u001b[49m\u001b[43mis_saving_intermediates\u001b[49m\u001b[38;5;241;43m=\u001b[39;49m\u001b[38;5;28;43;01mFalse\u001b[39;49;00m\u001b[43m,\u001b[49m\u001b[43m \u001b[49m\u001b[43mresults_base_directory\u001b[49m\u001b[38;5;241;43m=\u001b[39;49m\u001b[43mresults_base_directory\u001b[49m\u001b[43m,\u001b[49m\u001b[43m \u001b[49m\u001b[43mnum_repeats\u001b[49m\u001b[38;5;241;43m=\u001b[39;49m\u001b[43mnum_repeats\u001b[49m\u001b[43m)\u001b[49m\n",
      "File \u001b[0;32m/notebooks/circuit_partitioner_runner.py:22\u001b[0m, in \u001b[0;36mrun\u001b[0;34m(max_num_gates_per_cell_list, max_num_total_channels_list, circuit_file_path, is_saving_intermediates, results_base_directory, num_repeats, max_total_channels_ceiling, max_num_groups, is_minimizing, is_leaky_validation, leaky_validation_threshold, is_leaky_formation, leaky_formation_threshold)\u001b[0m\n\u001b[1;32m     20\u001b[0m \u001b[38;5;28;01mfor\u001b[39;00m max_num_gates_per_cell \u001b[38;5;129;01min\u001b[39;00m max_num_gates_per_cell_list:\n\u001b[1;32m     21\u001b[0m     partitioner \u001b[38;5;241m=\u001b[39m CircuitPartitioner(circuit_file_path, results_base_directory, max_num_gates_per_cell, max_num_total_channels, is_saving_intermediates, max_total_channels_ceiling, max_num_groups, is_minimizing, is_leaky_validation, leaky_validation_threshold, is_leaky_formation, leaky_formation_threshold)\n\u001b[0;32m---> 22\u001b[0m     \u001b[43mpartitioner\u001b[49m\u001b[38;5;241;43m.\u001b[39;49m\u001b[43mgenerate_partitions\u001b[49m\u001b[43m(\u001b[49m\u001b[43m)\u001b[49m\n",
      "File \u001b[0;32m/notebooks/circuit_partitioner.py:207\u001b[0m, in \u001b[0;36mCircuitPartitioner.generate_partitions\u001b[0;34m(self)\u001b[0m\n\u001b[1;32m    205\u001b[0m \u001b[38;5;28;01mdef\u001b[39;00m \u001b[38;5;21mgenerate_partitions\u001b[39m(\u001b[38;5;28mself\u001b[39m):\n\u001b[1;32m    206\u001b[0m     groups \u001b[38;5;241m=\u001b[39m \u001b[38;5;28mself\u001b[39m\u001b[38;5;241m.\u001b[39mget_groups()\n\u001b[0;32m--> 207\u001b[0m     \u001b[38;5;28;43mself\u001b[39;49m\u001b[38;5;241;43m.\u001b[39;49m\u001b[43mattempt_merges\u001b[49m\u001b[43m(\u001b[49m\u001b[43mgroups\u001b[49m\u001b[43m)\u001b[49m\n",
      "File \u001b[0;32m/notebooks/circuit_partitioner.py:194\u001b[0m, in \u001b[0;36mCircuitPartitioner.attempt_merges\u001b[0;34m(self, groups)\u001b[0m\n\u001b[1;32m    191\u001b[0m \u001b[38;5;28;01mdel\u001b[39;00m merged_groups[group_index]\n\u001b[1;32m    192\u001b[0m merged_groups[curr_group_index] \u001b[38;5;241m=\u001b[39m curr_merged_group\n\u001b[0;32m--> 194\u001b[0m \u001b[38;5;28;43mself\u001b[39;49m\u001b[38;5;241;43m.\u001b[39;49m\u001b[43mcheck_and_save_assignment\u001b[49m\u001b[43m(\u001b[49m\u001b[43mmerged_groups\u001b[49m\u001b[43m,\u001b[49m\u001b[43m \u001b[49m\u001b[38;5;28;43mself\u001b[39;49m\u001b[38;5;241;43m.\u001b[39;49m\u001b[43mis_saving_intermediates\u001b[49m\u001b[43m)\u001b[49m\n\u001b[1;32m    196\u001b[0m is_completed_merge \u001b[38;5;241m=\u001b[39m \u001b[38;5;28;01mTrue\u001b[39;00m\n\u001b[1;32m    197\u001b[0m is_merging \u001b[38;5;241m=\u001b[39m \u001b[38;5;28;01mTrue\u001b[39;00m\n",
      "File \u001b[0;32m/notebooks/circuit_partitioner.py:148\u001b[0m, in \u001b[0;36mCircuitPartitioner.check_and_save_assignment\u001b[0;34m(self, groups, is_saving)\u001b[0m\n\u001b[1;32m    147\u001b[0m \u001b[38;5;28;01mdef\u001b[39;00m \u001b[38;5;21mcheck_and_save_assignment\u001b[39m(\u001b[38;5;28mself\u001b[39m, groups, is_saving\u001b[38;5;241m=\u001b[39m\u001b[38;5;28;01mFalse\u001b[39;00m):\n\u001b[0;32m--> 148\u001b[0m     channel_assignment \u001b[38;5;241m=\u001b[39m \u001b[43mchannel_assigner\u001b[49m\u001b[38;5;241;43m.\u001b[39;49m\u001b[43mget_channel_assignment\u001b[49m\u001b[43m(\u001b[49m\u001b[38;5;28;43mself\u001b[39;49m\u001b[38;5;241;43m.\u001b[39;49m\u001b[43mget_edge_pairs\u001b[49m\u001b[43m(\u001b[49m\u001b[43mgroups\u001b[49m\u001b[43m)\u001b[49m\u001b[43m,\u001b[49m\u001b[43m \u001b[49m\u001b[38;5;28;43mself\u001b[39;49m\u001b[38;5;241;43m.\u001b[39;49m\u001b[43mmax_num_total_channels\u001b[49m\u001b[43m,\u001b[49m\u001b[43m \u001b[49m\u001b[38;5;28;43mself\u001b[39;49m\u001b[38;5;241;43m.\u001b[39;49m\u001b[43mmax_total_channels_ceiling\u001b[49m\u001b[43m)\u001b[49m\n\u001b[1;32m    150\u001b[0m     endpoint_count_temp \u001b[38;5;241m=\u001b[39m defaultdict(\u001b[38;5;28mint\u001b[39m)\n\u001b[1;32m    151\u001b[0m     \u001b[38;5;28;01mfor\u001b[39;00m group \u001b[38;5;129;01min\u001b[39;00m groups:\n",
      "File \u001b[0;32m/notebooks/channel_assigner.py:22\u001b[0m, in \u001b[0;36mget_channel_assignment\u001b[0;34m(edge_pairs, max_num_total_channels, max_total_channels_ceiling)\u001b[0m\n\u001b[1;32m     20\u001b[0m \u001b[38;5;28;01mdef\u001b[39;00m \u001b[38;5;21mget_channel_assignment\u001b[39m(edge_pairs, max_num_total_channels, max_total_channels_ceiling):\n\u001b[1;32m     21\u001b[0m     G \u001b[38;5;241m=\u001b[39m nx\u001b[38;5;241m.\u001b[39mGraph()\n\u001b[0;32m---> 22\u001b[0m     \u001b[43mG\u001b[49m\u001b[38;5;241;43m.\u001b[39;49m\u001b[43madd_edges_from\u001b[49m\u001b[43m(\u001b[49m\u001b[43medge_pairs\u001b[49m\u001b[43m)\u001b[49m\n\u001b[1;32m     24\u001b[0m     is_trying \u001b[38;5;241m=\u001b[39m \u001b[38;5;28;01mTrue\u001b[39;00m\n\u001b[1;32m     25\u001b[0m     is_min \u001b[38;5;241m=\u001b[39m \u001b[38;5;28;01mFalse\u001b[39;00m\n",
      "File \u001b[0;32m/usr/local/lib/python3.9/site-packages/networkx/classes/graph.py:1030\u001b[0m, in \u001b[0;36mGraph.add_edges_from\u001b[0;34m(self, ebunch_to_add, **attr)\u001b[0m\n\u001b[1;32m   1028\u001b[0m     \u001b[38;5;28mself\u001b[39m\u001b[38;5;241m.\u001b[39m_adj[u] \u001b[38;5;241m=\u001b[39m \u001b[38;5;28mself\u001b[39m\u001b[38;5;241m.\u001b[39madjlist_inner_dict_factory()\n\u001b[1;32m   1029\u001b[0m     \u001b[38;5;28mself\u001b[39m\u001b[38;5;241m.\u001b[39m_node[u] \u001b[38;5;241m=\u001b[39m \u001b[38;5;28mself\u001b[39m\u001b[38;5;241m.\u001b[39mnode_attr_dict_factory()\n\u001b[0;32m-> 1030\u001b[0m \u001b[38;5;28;01mif\u001b[39;00m v \u001b[38;5;129;01mnot\u001b[39;00m \u001b[38;5;129;01min\u001b[39;00m \u001b[38;5;28;43mself\u001b[39;49m\u001b[38;5;241;43m.\u001b[39;49m\u001b[43m_node\u001b[49m:\n\u001b[1;32m   1031\u001b[0m     \u001b[38;5;28;01mif\u001b[39;00m v \u001b[38;5;129;01mis\u001b[39;00m \u001b[38;5;28;01mNone\u001b[39;00m:\n\u001b[1;32m   1032\u001b[0m         \u001b[38;5;28;01mraise\u001b[39;00m \u001b[38;5;167;01mValueError\u001b[39;00m(\u001b[38;5;124m\"\u001b[39m\u001b[38;5;124mNone cannot be a node\u001b[39m\u001b[38;5;124m\"\u001b[39m)\n",
      "\u001b[0;31mKeyboardInterrupt\u001b[0m: "
     ]
    }
   ],
   "source": [
    "max_num_gates_per_cell_list = list(range(1, max_num_gates_per_cell + 1))\n",
    "max_num_total_channels_list = list(range(1, max_num_total_channels + 1))\n",
    "\n",
    "circuit_partitioner_runner.run(max_num_gates_per_cell_list, max_num_total_channels_list, circuit_file_path, is_saving_intermediates=False, results_base_directory=results_base_directory, num_repeats=num_repeats)\n"
   ]
  },
  {
   "cell_type": "code",
   "execution_count": null,
   "id": "85be734f",
   "metadata": {},
   "outputs": [],
   "source": [
    "compiled_data_directory = 'compiled_data/'\n",
    "results_directories = ['results/']\n",
    "\n",
    "data_compiler.compile_data(compiled_data_directory, results_directories, is_expanding=False)\n",
    "data_compiler.compile_data(compiled_data_directory, results_directories, True, max_num_gates_per_cell, max_num_total_channels)\n"
   ]
  },
  {
   "cell_type": "code",
   "execution_count": null,
   "id": "90c8c655",
   "metadata": {},
   "outputs": [],
   "source": []
  }
 ],
 "metadata": {
  "kernelspec": {
   "display_name": "Python 3 (ipykernel)",
   "language": "python",
   "name": "python3"
  },
  "language_info": {
   "codemirror_mode": {
    "name": "ipython",
    "version": 3
   },
   "file_extension": ".py",
   "mimetype": "text/x-python",
   "name": "python",
   "nbconvert_exporter": "python",
   "pygments_lexer": "ipython3",
   "version": "3.9.16"
  }
 },
 "nbformat": 4,
 "nbformat_minor": 5
}
