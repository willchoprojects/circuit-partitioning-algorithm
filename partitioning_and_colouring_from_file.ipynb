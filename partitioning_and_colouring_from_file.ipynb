{
 "cells": [
  {
   "cell_type": "code",
   "execution_count": 1,
   "id": "5255231c",
   "metadata": {},
   "outputs": [],
   "source": [
    "import partition_and_colour_run"
   ]
  },
  {
   "cell_type": "code",
   "execution_count": 2,
   "id": "3a0bc578",
   "metadata": {},
   "outputs": [],
   "source": [
    "partition_and_colour_run.main()"
   ]
  },
  {
   "cell_type": "code",
   "execution_count": null,
   "id": "29ffd384",
   "metadata": {},
   "outputs": [],
   "source": []
  }
 ],
 "metadata": {
  "kernelspec": {
   "display_name": "Python 3 (ipykernel)",
   "language": "python",
   "name": "python3"
  },
  "language_info": {
   "codemirror_mode": {
    "name": "ipython",
    "version": 3
   },
   "file_extension": ".py",
   "mimetype": "text/x-python",
   "name": "python",
   "nbconvert_exporter": "python",
   "pygments_lexer": "ipython3",
   "version": "3.9.16"
  }
 },
 "nbformat": 4,
 "nbformat_minor": 5
}
