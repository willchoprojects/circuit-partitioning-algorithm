{
 "cells": [
  {
   "cell_type": "code",
   "execution_count": 1,
   "id": "79ed1c3f",
   "metadata": {},
   "outputs": [],
   "source": [
    "import colouring_run"
   ]
  },
  {
   "cell_type": "code",
   "execution_count": 3,
   "id": "52da1550",
   "metadata": {},
   "outputs": [],
   "source": [
    "colouring_run.main(1)"
   ]
  }
 ],
 "metadata": {
  "kernelspec": {
   "display_name": "Python 3 (ipykernel)",
   "language": "python",
   "name": "python3"
  },
  "language_info": {
   "codemirror_mode": {
    "name": "ipython",
    "version": 3
   },
   "file_extension": ".py",
   "mimetype": "text/x-python",
   "name": "python",
   "nbconvert_exporter": "python",
   "pygments_lexer": "ipython3",
   "version": "3.9.16"
  }
 },
 "nbformat": 4,
 "nbformat_minor": 5
}
