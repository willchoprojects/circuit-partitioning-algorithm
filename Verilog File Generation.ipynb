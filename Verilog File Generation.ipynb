{
 "cells": [
  {
   "cell_type": "code",
   "execution_count": 1,
   "id": "c8c1a643",
   "metadata": {},
   "outputs": [],
   "source": [
    "import verilog_file_generator"
   ]
  },
  {
   "cell_type": "code",
   "execution_count": 2,
   "id": "51551547",
   "metadata": {},
   "outputs": [],
   "source": [
    "circuit_file_path = 'circuit_data/circuit.txt'\n",
    "results_base_directory = 'results/'\n",
    "result_file_name = 'result_file_name_here'\n",
    "output_file_path = 'verilog_files/'"
   ]
  },
  {
   "cell_type": "code",
   "execution_count": 3,
   "id": "b81e4336",
   "metadata": {},
   "outputs": [],
   "source": [
    "verilog_file_generator.generate(circuit_file_path, results_base_directory, result_file_name, output_file_path)"
   ]
  }
 ],
 "metadata": {
  "kernelspec": {
   "display_name": "Python 3 (ipykernel)",
   "language": "python",
   "name": "python3"
  },
  "language_info": {
   "codemirror_mode": {
    "name": "ipython",
    "version": 3
   },
   "file_extension": ".py",
   "mimetype": "text/x-python",
   "name": "python",
   "nbconvert_exporter": "python",
   "pygments_lexer": "ipython3",
   "version": "3.9.16"
  }
 },
 "nbformat": 4,
 "nbformat_minor": 5
}
