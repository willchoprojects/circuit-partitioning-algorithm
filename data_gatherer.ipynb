{
 "cells": [
  {
   "cell_type": "code",
   "execution_count": 2,
   "id": "e0255117",
   "metadata": {},
   "outputs": [],
   "source": [
    "import os\n",
    "import time\n",
    "from collections import defaultdict\n",
    "\n",
    "data = defaultdict(lambda: float('inf'))\n",
    "\n",
    "for file_name in os.listdir('results/assigned_groups'):\n",
    "    parts = file_name.split('_')\n",
    "    max_nodes = int(parts[2])\n",
    "    if 'actual' in parts:\n",
    "        max_channels_index = parts.index('actual') + 2\n",
    "    else:\n",
    "        max_channels_index = parts.index('channels') + 1\n",
    "    max_channels = int(parts[max_channels_index])\n",
    "\n",
    "    num_cells = int(parts[6])\n",
    "    \n",
    "    data[(max_nodes,max_channels)] = min(data[(max_nodes,max_channels)], num_cells)\n",
    "\n",
    "with open(f'data_{int(time.time())}.csv', 'w') as file:\n",
    "    for pair, cells in data.items():\n",
    "        file.write(f'{pair[0]},{pair[1]},{cells}' + '\\n')"
   ]
  },
  {
   "cell_type": "code",
   "execution_count": 1,
   "id": "636c4894",
   "metadata": {},
   "outputs": [
    {
     "data": {
      "text/plain": [
       "1680582698.84956"
      ]
     },
     "execution_count": 1,
     "metadata": {},
     "output_type": "execute_result"
    }
   ],
   "source": []
  }
 ],
 "metadata": {
  "kernelspec": {
   "display_name": "Python 3 (ipykernel)",
   "language": "python",
   "name": "python3"
  },
  "language_info": {
   "codemirror_mode": {
    "name": "ipython",
    "version": 3
   },
   "file_extension": ".py",
   "mimetype": "text/x-python",
   "name": "python",
   "nbconvert_exporter": "python",
   "pygments_lexer": "ipython3",
   "version": "3.9.16"
  }
 },
 "nbformat": 4,
 "nbformat_minor": 5
}
