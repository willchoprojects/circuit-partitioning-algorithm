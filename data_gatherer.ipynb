{
 "cells": [
  {
   "cell_type": "code",
   "execution_count": 6,
   "id": "e0255117",
   "metadata": {},
   "outputs": [],
   "source": [
    "import os\n",
    "import time\n",
    "from collections import defaultdict\n",
    "\n",
    "directories = ['results_fixed']\n",
    "data = defaultdict(lambda: float('inf'))\n",
    "\n",
    "for base_directory in directories:\n",
    "    for file_name in os.listdir(f'{base_directory}/channel_assignments'):\n",
    "        parts = file_name.split('_')\n",
    "\n",
    "        max_nodes = int(parts[2])\n",
    "        if 'actual' in parts:\n",
    "            max_channels_index = parts.index('actual') + 2\n",
    "        else:\n",
    "            max_channels_index = parts.index('channels') + 1\n",
    "        max_channels = int(parts[max_channels_index])\n",
    "\n",
    "        num_cells = int(parts[6])\n",
    "\n",
    "        data[(max_nodes,max_channels)] = min(data[(max_nodes,max_channels)], num_cells)\n",
    "\n",
    "# for i in range(1, 140):\n",
    "#     prev_min = float('inf')\n",
    "#     for j in range(1, 136):\n",
    "#         prev_min = min(prev_min, data[i, j])\n",
    "#         data[i, j] = prev_min\n",
    "\n",
    "# for i in range(1, 140):\n",
    "#     prev_min = float('inf')\n",
    "#     for j in range(1, 136):\n",
    "#         prev_min = min(prev_min, data[j, i])\n",
    "#         data[j, i] = prev_min\n",
    "        \n",
    "with open(f'data_merged_{int(time.time())}.csv', 'w') as file:\n",
    "    for i in range(1, 140):\n",
    "        row_strings = []\n",
    "        for j in range(1, 140):\n",
    "            row_strings.append(str(data[i, j]))\n",
    "            \n",
    "        file.write(','.join(row_strings) + '\\n')"
   ]
  },
  {
   "cell_type": "code",
   "execution_count": null,
   "id": "6884610e",
   "metadata": {},
   "outputs": [],
   "source": []
  }
 ],
 "metadata": {
  "kernelspec": {
   "display_name": "Python 3 (ipykernel)",
   "language": "python",
   "name": "python3"
  },
  "language_info": {
   "codemirror_mode": {
    "name": "ipython",
    "version": 3
   },
   "file_extension": ".py",
   "mimetype": "text/x-python",
   "name": "python",
   "nbconvert_exporter": "python",
   "pygments_lexer": "ipython3",
   "version": "3.9.16"
  }
 },
 "nbformat": 4,
 "nbformat_minor": 5
}
